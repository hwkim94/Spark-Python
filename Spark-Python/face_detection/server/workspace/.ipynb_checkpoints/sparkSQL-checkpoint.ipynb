{
 "cells": [
  {
   "cell_type": "markdown",
   "metadata": {},
   "source": [
    "# SparkSQL\n",
    "- 학습 데이터의 평균/표준편차를 구해서 저장하기\n",
    "- http://spark.apache.org/docs/2.3.0/api/python/pyspark.sql.html"
   ]
  },
  {
   "cell_type": "code",
   "execution_count": 1,
   "metadata": {},
   "outputs": [
    {
     "data": {
      "text/html": [
       "\n",
       "        <div>\n",
       "            <p><b>SparkContext</b></p>\n",
       "\n",
       "            <p><a href=\"http://ip-172-31-28-32.ap-northeast-2.compute.internal:4040\">Spark UI</a></p>\n",
       "\n",
       "            <dl>\n",
       "              <dt>Version</dt>\n",
       "                <dd><code>v2.3.2</code></dd>\n",
       "              <dt>Master</dt>\n",
       "                <dd><code>local[*]</code></dd>\n",
       "              <dt>AppName</dt>\n",
       "                <dd><code>PySparkShell</code></dd>\n",
       "            </dl>\n",
       "        </div>\n",
       "        "
      ],
      "text/plain": [
       "<SparkContext master=local[*] appName=PySparkShell>"
      ]
     },
     "execution_count": 1,
     "metadata": {},
     "output_type": "execute_result"
    }
   ],
   "source": [
    "from pyspark import SparkContext, SparkConf, storagelevel\n",
    "\n",
    "from pyspark.sql import SparkSession\n",
    "import pyspark.sql.functions as psf\n",
    "from pyspark.sql.types import StructType, FloatType\n",
    "\n",
    "sc"
   ]
  },
  {
   "cell_type": "code",
   "execution_count": 2,
   "metadata": {},
   "outputs": [],
   "source": [
    "spark = SparkSession \\\n",
    "       .builder \\\n",
    "       .appName(\"sparkSQL\") \\\n",
    "       .config(\"spark.sql.crossJoin.enabled\", True) \\\n",
    "       .getOrCreate()"
   ]
  },
  {
   "cell_type": "code",
   "execution_count": 72,
   "metadata": {},
   "outputs": [],
   "source": [
    "# hdfs\n",
    "\n",
    "confidence = spark.read.text(\"/hyunwoo/train_data/confidence.txt\")\n",
    "count = spark.read.text(\"/hyunwoo/train_data/count.txt\")\n",
    "rectangle_coord = spark.read.text(\"/hyunwoo/train_data/rectangle_coord.txt\")\n",
    "token = spark.read.text(\"/hyunwoo/train_data/token.txt\")"
   ]
  },
  {
   "cell_type": "code",
   "execution_count": 33,
   "metadata": {
    "scrolled": false
   },
   "outputs": [
    {
     "name": "stdout",
     "output_type": "stream",
     "text": [
      "+------------------+\n",
      "|             value|\n",
      "+------------------+\n",
      "| 33.91636465503324|\n",
      "|36.265998570441845|\n",
      "| 39.05037907624643|\n",
      "|  38.5720515191172|\n",
      "|  38.0590792264943|\n",
      "+------------------+\n",
      "only showing top 5 rows\n",
      "\n",
      "+------------+\n",
      "|       value|\n",
      "+------------+\n",
      "|200, 130, 60|\n",
      "|200, 160, 80|\n",
      "|200, 155, 72|\n",
      "|200, 163, 75|\n",
      "+------------+\n",
      "\n",
      "+----------------+\n",
      "|           value|\n",
      "+----------------+\n",
      "|197, 125, 71, 71|\n",
      "|197, 123, 73, 73|\n",
      "|197, 125, 71, 71|\n",
      "|197, 125, 72, 72|\n",
      "|196, 125, 72, 72|\n",
      "+----------------+\n",
      "only showing top 5 rows\n",
      "\n",
      "+----------+\n",
      "|     value|\n",
      "+----------+\n",
      "|0123456789|\n",
      "+----------+\n",
      "\n"
     ]
    }
   ],
   "source": [
    "confidence.show(5)\n",
    "count.show(5)\n",
    "rectangle_coord.show(5)\n",
    "token.show()"
   ]
  },
  {
   "cell_type": "markdown",
   "metadata": {},
   "source": [
    " \n",
    " "
   ]
  },
  {
   "cell_type": "markdown",
   "metadata": {},
   "source": [
    "## describe 이용\n",
    "- 하나의 token에 대해서만 데이터 확인할 경우"
   ]
  },
  {
   "cell_type": "code",
   "execution_count": 34,
   "metadata": {},
   "outputs": [
    {
     "name": "stdout",
     "output_type": "stream",
     "text": [
      "+-------+-----------------+\n",
      "|summary|            value|\n",
      "+-------+-----------------+\n",
      "|  count|              100|\n",
      "|   mean|38.34141864776611|\n",
      "| stddev|4.604178031144208|\n",
      "|    min|        32.896786|\n",
      "|    max|        56.184433|\n",
      "+-------+-----------------+\n",
      "\n"
     ]
    }
   ],
   "source": [
    "d_confidence = confidence.selectExpr(\"CAST(value AS Float)\").describe()\n",
    "d_confidence.show()"
   ]
  },
  {
   "cell_type": "code",
   "execution_count": 35,
   "metadata": {},
   "outputs": [
    {
     "name": "stdout",
     "output_type": "stream",
     "text": [
      "+-------+------------------+------------------+------------------+------------------+\n",
      "|summary|                 x|                 y|                 w|                 h|\n",
      "+-------+------------------+------------------+------------------+------------------+\n",
      "|  count|               200|               200|               200|               200|\n",
      "|   mean|            196.86|            124.42|            72.215|            72.215|\n",
      "| stddev|1.0225596025188444|0.7852919311220703|1.3557156132908503|1.3557156132908503|\n",
      "|    min|             194.0|             122.0|              69.0|              69.0|\n",
      "|    max|             200.0|             126.0|              77.0|              77.0|\n",
      "+-------+------------------+------------------+------------------+------------------+\n",
      "\n"
     ]
    }
   ],
   "source": [
    "d_rectangle_coord = rectangle_coord.select(psf.split(psf.col(\"value\"), \", \").alias(\"value\")) \\\n",
    "                                   .select(psf.col(\"value\").getItem(0).alias(\"x\"),\n",
    "                                           psf.col(\"value\").getItem(1).alias(\"y\"),\n",
    "                                           psf.col(\"value\").getItem(2).alias(\"w\"),\n",
    "                                           psf.col(\"value\").getItem(3).alias(\"h\")) \\\n",
    "                                   .selectExpr(\"CAST(x AS Float)\", \"CAST(y AS Float)\", \"CAST(w AS Float)\", \"CAST(h AS Float)\") \\\n",
    "                                   .describe()\n",
    "                                    \n",
    "d_rectangle_coord.show()                "
   ]
  },
  {
   "cell_type": "code",
   "execution_count": 56,
   "metadata": {},
   "outputs": [
    {
     "name": "stdout",
     "output_type": "stream",
     "text": [
      "+-------+-------------------+-------------------+\n",
      "|summary|         face_ratio|          eye_ratio|\n",
      "+-------+-------------------+-------------------+\n",
      "|  count|                  4|                  4|\n",
      "|   mean|               0.76|            0.35875|\n",
      "| stddev|0.07516648189186452|0.04250000000000002|\n",
      "|    min|               0.65|                0.3|\n",
      "|    max|              0.815|                0.4|\n",
      "+-------+-------------------+-------------------+\n",
      "\n"
     ]
    }
   ],
   "source": [
    "d_count = count.select(psf.split(psf.col(\"value\"), \", \").alias(\"value\")) \\\n",
    "               .select(psf.col(\"value\").getItem(0).alias(\"img\"),\n",
    "                       psf.col(\"value\").getItem(1).alias(\"face\"),\n",
    "                       psf.col(\"value\").getItem(2).alias(\"eye\")) \\\n",
    "               .selectExpr(\"CAST(img AS Float)\", \"CAST(face AS Float)\", \"CAST(eye AS Float)\") \\\n",
    "               .select((psf.col(\"face\")/psf.col(\"img\")).alias(\"face_ratio\"),\n",
    "                       (psf.col(\"eye\")/psf.col(\"img\")).alias(\"eye_ratio\")) \\\n",
    "               .describe()\n",
    "        \n",
    "d_count.show()"
   ]
  },
  {
   "cell_type": "code",
   "execution_count": 57,
   "metadata": {},
   "outputs": [
    {
     "name": "stdout",
     "output_type": "stream",
     "text": [
      "+-------+-----------------+\n",
      "|summary|            value|\n",
      "+-------+-----------------+\n",
      "|   mean|38.34141864776611|\n",
      "| stddev|4.604178031144208|\n",
      "+-------+-----------------+\n",
      "\n"
     ]
    }
   ],
   "source": [
    "v_confidence = d_confidence.filter(\"summary == 'mean' or summary == 'stddev'\")\n",
    "v_confidence.show()"
   ]
  },
  {
   "cell_type": "code",
   "execution_count": 58,
   "metadata": {
    "scrolled": false
   },
   "outputs": [
    {
     "name": "stdout",
     "output_type": "stream",
     "text": [
      "+-------+------------------+------------------+------------------+------------------+\n",
      "|summary|                 x|                 y|                 w|                 h|\n",
      "+-------+------------------+------------------+------------------+------------------+\n",
      "|   mean|            196.86|            124.42|            72.215|            72.215|\n",
      "| stddev|1.0225596025188444|0.7852919311220703|1.3557156132908503|1.3557156132908503|\n",
      "+-------+------------------+------------------+------------------+------------------+\n",
      "\n"
     ]
    }
   ],
   "source": [
    "v_rectangle_coord = d_rectangle_coord.filter(\"summary == 'mean' or summary == 'stddev'\")\n",
    "v_rectangle_coord.show()"
   ]
  },
  {
   "cell_type": "code",
   "execution_count": 59,
   "metadata": {},
   "outputs": [
    {
     "name": "stdout",
     "output_type": "stream",
     "text": [
      "+-------+-------------------+-------------------+\n",
      "|summary|         face_ratio|          eye_ratio|\n",
      "+-------+-------------------+-------------------+\n",
      "|   mean|               0.76|            0.35875|\n",
      "| stddev|0.07516648189186452|0.04250000000000002|\n",
      "+-------+-------------------+-------------------+\n",
      "\n"
     ]
    }
   ],
   "source": [
    "v_count = d_count.filter(\"summary == 'mean' or summary == 'stddev'\")\n",
    "v_count.show()"
   ]
  },
  {
   "cell_type": "markdown",
   "metadata": {},
   "source": [
    " "
   ]
  },
  {
   "cell_type": "code",
   "execution_count": 60,
   "metadata": {},
   "outputs": [],
   "source": [
    "v_confidence_mean = v_confidence.filter(\"summary == 'mean'\") \\\n",
    "                                .select(psf.col(\"value\").alias(\"confidencee_mean\")) \n",
    "                    \n",
    "v_confidence_std = v_confidence.filter(\"summary == 'stddev'\")\\\n",
    "                               .select(psf.col(\"value\").alias(\"confidencee_std\"))\n",
    "\n",
    "v_rectangle_coord_mean = v_rectangle_coord.filter(\"summary == 'mean'\")\\\n",
    "                                           .select(psf.col(\"x\").alias(\"x_mean\"),\n",
    "                                                   psf.col(\"y\").alias(\"y_mean\"),\n",
    "                                                   psf.col(\"w\").alias(\"w_mean\"),\n",
    "                                                   psf.col(\"h\").alias(\"h_mean\"))\n",
    "    \n",
    "v_rectangle_coord_std = v_rectangle_coord.filter(\"summary == 'stddev'\")\\\n",
    "                                         .select(psf.col(\"x\").alias(\"x_std\"),\n",
    "                                                 psf.col(\"y\").alias(\"y_std\"),\n",
    "                                                 psf.col(\"w\").alias(\"w_std\"),\n",
    "                                                 psf.col(\"h\").alias(\"h_std\"))\n",
    "    \n",
    "v_count_mean = v_count.filter(\"summary == 'mean'\") \\\n",
    "                      .select(psf.col(\"face_ratio\").alias(\"face_ratio_mean\"), \n",
    "                              psf.col(\"eye_ratio\").alias(\"eye_ratio_mean\")) \n",
    "                    \n",
    "v_count_std = v_count.filter(\"summary == 'stddev'\")\\\n",
    "                     .select(psf.col(\"face_ratio\").alias(\"face_ratio_std\"), \n",
    "                             psf.col(\"eye_ratio\").alias(\"eye_ratio_std\")) "
   ]
  },
  {
   "cell_type": "code",
   "execution_count": 62,
   "metadata": {},
   "outputs": [
    {
     "name": "stdout",
     "output_type": "stream",
     "text": [
      "+----------+-----------------+-----------------+------+------+------+------+------------------+------------------+------------------+------------------+---------------+--------------+-------------------+-------------------+\n",
      "|     value| confidencee_mean|  confidencee_std|x_mean|y_mean|w_mean|h_mean|             x_std|             y_std|             w_std|             h_std|face_ratio_mean|eye_ratio_mean|     face_ratio_std|      eye_ratio_std|\n",
      "+----------+-----------------+-----------------+------+------+------+------+------------------+------------------+------------------+------------------+---------------+--------------+-------------------+-------------------+\n",
      "|0123456789|38.34141864776611|4.604178031144208|196.86|124.42|72.215|72.215|1.0225596025188444|0.7852919311220703|1.3557156132908503|1.3557156132908503|           0.76|       0.35875|0.07516648189186452|0.04250000000000002|\n",
      "+----------+-----------------+-----------------+------+------+------+------+------------------+------------------+------------------+------------------+---------------+--------------+-------------------+-------------------+\n",
      "\n"
     ]
    }
   ],
   "source": [
    "result = token.join(v_confidence_mean).join(v_confidence_std).join(v_rectangle_coord_mean).join(v_rectangle_coord_std).join(v_count_mean).join(v_count_std)\n",
    "result.show()"
   ]
  },
  {
   "cell_type": "markdown",
   "metadata": {},
   "source": [
    " "
   ]
  },
  {
   "cell_type": "markdown",
   "metadata": {},
   "source": [
    "## aggregation 이용\n",
    "- 여러 개의 token이 있을 경우\n",
    "- 실제로는 token이 각 데이터와 함께 들어올 것"
   ]
  },
  {
   "cell_type": "code",
   "execution_count": 73,
   "metadata": {},
   "outputs": [
    {
     "name": "stdout",
     "output_type": "stream",
     "text": [
      "+----------+------------+\n",
      "|     token|       value|\n",
      "+----------+------------+\n",
      "|0123456789|200, 130, 60|\n",
      "|0123456789|200, 160, 80|\n",
      "|0123456789|200, 155, 72|\n",
      "|0123456789|200, 163, 75|\n",
      "+----------+------------+\n",
      "\n",
      "+----------+------------------+\n",
      "|     token|             value|\n",
      "+----------+------------------+\n",
      "|0123456789| 33.91636465503324|\n",
      "|0123456789|36.265998570441845|\n",
      "|0123456789| 39.05037907624643|\n",
      "|0123456789|  38.5720515191172|\n",
      "|0123456789|  38.0590792264943|\n",
      "+----------+------------------+\n",
      "only showing top 5 rows\n",
      "\n",
      "+----------+----------------+\n",
      "|     token|           value|\n",
      "+----------+----------------+\n",
      "|0123456789|197, 125, 71, 71|\n",
      "|0123456789|197, 123, 73, 73|\n",
      "|0123456789|197, 125, 71, 71|\n",
      "|0123456789|197, 125, 72, 72|\n",
      "|0123456789|196, 125, 72, 72|\n",
      "+----------+----------------+\n",
      "only showing top 5 rows\n",
      "\n"
     ]
    }
   ],
   "source": [
    "t_token = token.select(psf.col(\"value\").alias(\"token\"))\n",
    "t_count = t_token.join(count)\n",
    "t_conf = t_token.join(confidence)\n",
    "t_rec = t_token.join(rectangle_coord)\n",
    "\n",
    "t_count.show(5)\n",
    "t_conf.show(5)\n",
    "t_rec.show(5)"
   ]
  },
  {
   "cell_type": "code",
   "execution_count": 74,
   "metadata": {},
   "outputs": [],
   "source": [
    "c_count = t_count.select(psf.col(\"token\"), psf.split(psf.col(\"value\"), \", \").alias(\"value\")) \\\n",
    "                 .select(psf.col(\"token\"),\n",
    "                         psf.col(\"value\").getItem(0).alias(\"img\"),\n",
    "                         psf.col(\"value\").getItem(1).alias(\"face\"),\n",
    "                         psf.col(\"value\").getItem(2).alias(\"eye\")) \\\n",
    "                 .selectExpr(\"token\", \"CAST(img AS Float)\", \"CAST(face AS Float)\", \"CAST(eye AS Float)\")\n",
    "        \n",
    "c_conf = t_conf.selectExpr(\"token\", \"CAST(value AS Float)\")\n",
    "\n",
    "c_rec = t_rec.select(psf.col(\"token\"), psf.split(psf.col(\"value\"), \", \").alias(\"value\")) \\\n",
    "             .select(psf.col(\"token\"),\n",
    "                     psf.col(\"value\").getItem(0).alias(\"x\"),\n",
    "                     psf.col(\"value\").getItem(1).alias(\"y\"),\n",
    "                     psf.col(\"value\").getItem(2).alias(\"w\"),\n",
    "                     psf.col(\"value\").getItem(3).alias(\"h\")) \\\n",
    "              .selectExpr(\"token\", \"CAST(x AS Float)\", \"CAST(y AS Float)\", \"CAST(w AS Float)\", \"CAST(h AS Float)\")"
   ]
  },
  {
   "cell_type": "code",
   "execution_count": 75,
   "metadata": {},
   "outputs": [
    {
     "name": "stdout",
     "output_type": "stream",
     "text": [
      "+----------+-----+-----+----+\n",
      "|     token|  img| face| eye|\n",
      "+----------+-----+-----+----+\n",
      "|0123456789|200.0|130.0|60.0|\n",
      "|0123456789|200.0|160.0|80.0|\n",
      "|0123456789|200.0|155.0|72.0|\n",
      "|0123456789|200.0|163.0|75.0|\n",
      "+----------+-----+-----+----+\n",
      "\n",
      "+----------+---------+\n",
      "|     token|    value|\n",
      "+----------+---------+\n",
      "|0123456789|33.916363|\n",
      "|0123456789|   36.266|\n",
      "|0123456789| 39.05038|\n",
      "|0123456789|38.572052|\n",
      "|0123456789| 38.05908|\n",
      "+----------+---------+\n",
      "only showing top 5 rows\n",
      "\n",
      "+----------+-----+-----+----+----+\n",
      "|     token|    x|    y|   w|   h|\n",
      "+----------+-----+-----+----+----+\n",
      "|0123456789|197.0|125.0|71.0|71.0|\n",
      "|0123456789|197.0|123.0|73.0|73.0|\n",
      "|0123456789|197.0|125.0|71.0|71.0|\n",
      "|0123456789|197.0|125.0|72.0|72.0|\n",
      "|0123456789|196.0|125.0|72.0|72.0|\n",
      "+----------+-----+-----+----+----+\n",
      "only showing top 5 rows\n",
      "\n"
     ]
    }
   ],
   "source": [
    "c_count.show(5)\n",
    "c_conf.show(5)\n",
    "c_rec.show(5)"
   ]
  },
  {
   "cell_type": "code",
   "execution_count": 86,
   "metadata": {},
   "outputs": [],
   "source": [
    "def dist(x, y, w, h) :\n",
    "    center_x = x + w/2\n",
    "    center_y = y + h/2\n",
    "    \n",
    "    return ((center_x-240)**2 + (center_y-180)**2)**0.5\n",
    "\n",
    "dist_udf = psf.udf(lambda x,y,w,h: dist(x,y,w,h), FloatType())\n",
    "\n",
    "a_count = c_count.select(psf.col(\"token\"),\n",
    "                         (psf.col(\"face\")/psf.col(\"img\")).alias(\"face_ratio\"),\n",
    "                         (psf.col(\"eye\")/psf.col(\"img\")).alias(\"eye_ratio\")) \\\n",
    "                 .groupBy(\"token\") \\\n",
    "                 .agg(psf.mean(\"face_ratio\").alias(\"face_ratio_mean\"), psf.stddev(\"face_ratio\").alias(\"face_ratio_std\"),\n",
    "                      psf.mean(\"eye_ratio\").alias(\"eye_ratio_mean\"), psf.stddev(\"eye_ratio\").alias(\"eye_ratio_std\"))\n",
    "\n",
    "a_conf = c_conf.groupBy(\"token\") \\\n",
    "               .agg(psf.mean(\"value\").alias(\"confidence_mean\"), psf.stddev(\"value\").alias(\"confidence_std\"))\n",
    "    \n",
    "a_rec = c_rec.withColumn(\"dist\", dist_udf(\"x\", \"y\", \"w\", \"h\")) \\\n",
    "             .withColumn(\"area\", psf.col(\"w\")*psf.col(\"h\")) \\\n",
    "             .groupBy(\"token\") \\\n",
    "             .agg(psf.mean(\"x\").alias(\"x_mean\"), psf.stddev(\"x\").alias(\"x_std\"),\n",
    "                  psf.mean(\"y\").alias(\"y_mean\"), psf.stddev(\"y\").alias(\"y_std\"),\n",
    "                  psf.mean(\"w\").alias(\"wh_mean\"), psf.stddev(\"w\").alias(\"wh_std\"),\n",
    "                  psf.mean(\"dist\").alias(\"dist_mean\"), psf.stddev(\"dist\").alias(\"dist_std\"),\n",
    "                  psf.mean(\"area\").alias(\"area_mean\"), psf.stddev(\"area\").alias(\"area_std\"))"
   ]
  },
  {
   "cell_type": "code",
   "execution_count": 87,
   "metadata": {
    "scrolled": true
   },
   "outputs": [
    {
     "name": "stdout",
     "output_type": "stream",
     "text": [
      "+----------+---------------+-------------------+--------------+-------------------+\n",
      "|     token|face_ratio_mean|     face_ratio_std|eye_ratio_mean|      eye_ratio_std|\n",
      "+----------+---------------+-------------------+--------------+-------------------+\n",
      "|0123456789|           0.76|0.07516648189186452|       0.35875|0.04250000000000002|\n",
      "+----------+---------------+-------------------+--------------+-------------------+\n",
      "\n",
      "+----------+-----------------+-----------------+\n",
      "|     token|  confidence_mean|   confidence_std|\n",
      "+----------+-----------------+-----------------+\n",
      "|0123456789|38.34141864776611|4.604178031144208|\n",
      "+----------+-----------------+-----------------+\n",
      "\n",
      "+----------+------+------------------+------+------------------+-------+------------------+------------------+-----------------+---------+------------------+\n",
      "|     token|x_mean|             x_std|y_mean|             y_std|wh_mean|            wh_std|         dist_mean|         dist_std|area_mean|          area_std|\n",
      "+----------+------+------------------+------+------------------+-------+------------------+------------------+-----------------+---------+------------------+\n",
      "|0123456789|196.86|1.0225596025188444|124.42|0.7852919311220703| 72.215|1.3557156132908503|20.713182306289674|0.409143507442128| 5216.835|196.50912691221015|\n",
      "+----------+------+------------------+------+------------------+-------+------------------+------------------+-----------------+---------+------------------+\n",
      "\n"
     ]
    }
   ],
   "source": [
    "a_count.show()\n",
    "a_conf.show()\n",
    "a_rec.show()"
   ]
  },
  {
   "cell_type": "code",
   "execution_count": 88,
   "metadata": {},
   "outputs": [
    {
     "name": "stdout",
     "output_type": "stream",
     "text": [
      "+----------+---------------+-------------------+--------------+-------------------+-----------------+-----------------+------+------------------+------+------------------+-------+------------------+------------------+-----------------+---------+------------------+\n",
      "|     token|face_ratio_mean|     face_ratio_std|eye_ratio_mean|      eye_ratio_std|  confidence_mean|   confidence_std|x_mean|             x_std|y_mean|             y_std|wh_mean|            wh_std|         dist_mean|         dist_std|area_mean|          area_std|\n",
      "+----------+---------------+-------------------+--------------+-------------------+-----------------+-----------------+------+------------------+------+------------------+-------+------------------+------------------+-----------------+---------+------------------+\n",
      "|0123456789|           0.76|0.07516648189186452|       0.35875|0.04250000000000002|38.34141864776611|4.604178031144208|196.86|1.0225596025188444|124.42|0.7852919311220703| 72.215|1.3557156132908503|20.713182306289674|0.409143507442128| 5216.835|196.50912691221015|\n",
      "+----------+---------------+-------------------+--------------+-------------------+-----------------+-----------------+------+------------------+------+------------------+-------+------------------+------------------+-----------------+---------+------------------+\n",
      "\n"
     ]
    }
   ],
   "source": [
    "result = a_count.join(a_conf, [\"token\"]).join(a_rec, [\"token\"])\n",
    "result.show()"
   ]
  },
  {
   "cell_type": "code",
   "execution_count": 89,
   "metadata": {},
   "outputs": [],
   "source": [
    "# hdfs\n",
    "result.write.option(\"header\", \"true\").csv(\"/hyunwoo/train_result/result.csv\")"
   ]
  },
  {
   "cell_type": "code",
   "execution_count": 90,
   "metadata": {},
   "outputs": [
    {
     "name": "stdout",
     "output_type": "stream",
     "text": [
      "+----------+---------------+-------------------+--------------+-------------------+-----------------+-----------------+------+------------------+------+------------------+-------+------------------+------------------+-----------------+---------+------------------+\n",
      "|     token|face_ratio_mean|     face_ratio_std|eye_ratio_mean|      eye_ratio_std|  confidence_mean|   confidence_std|x_mean|             x_std|y_mean|             y_std|wh_mean|            wh_std|         dist_mean|         dist_std|area_mean|          area_std|\n",
      "+----------+---------------+-------------------+--------------+-------------------+-----------------+-----------------+------+------------------+------+------------------+-------+------------------+------------------+-----------------+---------+------------------+\n",
      "|0123456789|           0.76|0.07516648189186452|       0.35875|0.04250000000000002|38.34141864776611|4.604178031144208|196.86|1.0225596025188444|124.42|0.7852919311220703| 72.215|1.3557156132908503|20.713182306289674|0.409143507442128| 5216.835|196.50912691221015|\n",
      "+----------+---------------+-------------------+--------------+-------------------+-----------------+-----------------+------+------------------+------+------------------+-------+------------------+------------------+-----------------+---------+------------------+\n",
      "\n"
     ]
    }
   ],
   "source": [
    "reload = spark.read.option(\"header\", \"true\").csv(\"/hyunwoo/train_result/result.csv\")\n",
    "reload.show()"
   ]
  },
  {
   "cell_type": "code",
   "execution_count": null,
   "metadata": {},
   "outputs": [],
   "source": []
  }
 ],
 "metadata": {
  "kernelspec": {
   "display_name": "Python 3",
   "language": "python",
   "name": "python3"
  },
  "language_info": {
   "codemirror_mode": {
    "name": "ipython",
    "version": 3
   },
   "file_extension": ".py",
   "mimetype": "text/x-python",
   "name": "python",
   "nbconvert_exporter": "python",
   "pygments_lexer": "ipython3",
   "version": "3.6.4"
  }
 },
 "nbformat": 4,
 "nbformat_minor": 2
}
